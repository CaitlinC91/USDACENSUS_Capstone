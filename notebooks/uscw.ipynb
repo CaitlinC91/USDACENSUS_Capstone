{
 "cells": [
  {
   "cell_type": "code",
   "execution_count": 2,
   "metadata": {},
   "outputs": [],
   "source": [
    "import json\n",
    "import requests\n",
    "import pandas as pd\n",
    "import numpy as np\n",
    "import matplotlib.dates as mdates\n",
    "from geopy.adapters import AioHTTPAdapter\n",
    "from geopy.geocoders import Nominatim\n",
    "from geopy.extra.rate_limiter import RateLimiter\n",
    "#%load_ext autotime\n",
    "import geopandas as gpd\n",
    "import geopy\n",
    "import matplotlib.pyplot as plt\n",
    "import plotly_express as px\n",
    "import tqdm\n",
    "from tqdm.notebook import tqdm_notebook\n",
    "import reverse_geocoder as rg\n",
    "import os"
   ]
  },
  {
   "cell_type": "code",
   "execution_count": 4,
   "metadata": {},
   "outputs": [
    {
     "name": "stdout",
     "output_type": "stream",
     "text": [
      "       Unnamed: 0        Date  tmax  tmin  prcp          station\n",
      "0               1  1894-01-01  60.0  41.0  0.00  USC00042863.csv\n",
      "1               2  1894-01-02  58.0  50.0  0.40  USC00042863.csv\n",
      "2               3  1894-01-03  57.0  42.0  0.00  USC00042863.csv\n",
      "3               4  1894-01-04  53.0  42.0  0.28  USC00042863.csv\n",
      "4               5  1894-01-05  50.0  38.0  0.00  USC00042863.csv\n",
      "...           ...         ...   ...   ...   ...              ...\n",
      "46746       46747  2021-12-27   NaN   NaN   NaN  USC00042863.csv\n",
      "46747       46748  2021-12-28   NaN   NaN   NaN  USC00042863.csv\n",
      "46748       46749  2021-12-29   NaN   NaN   NaN  USC00042863.csv\n",
      "46749       46750  2021-12-30   NaN   NaN   NaN  USC00042863.csv\n",
      "46750       46751  2021-12-31   NaN   NaN   NaN  USC00042863.csv\n",
      "\n",
      "[46751 rows x 6 columns]\n"
     ]
    }
   ],
   "source": [
    "# Read the CSV file into a DataFrame\n",
    "usw1= pd.read_csv('../data/7890488/USC00042863.csv')\n",
    "\n",
    "# Get the file name from the file path\n",
    "file_name = os.path.basename('USC00042863.csv')\n",
    "\n",
    "# Create a new column with the file name as a value\n",
    "usw1['station'] = file_name\n",
    "\n",
    "# Print the updated DataFrame\n",
    "print(usw1)"
   ]
  }
 ],
 "metadata": {
  "kernelspec": {
   "display_name": "base",
   "language": "python",
   "name": "python3"
  },
  "language_info": {
   "codemirror_mode": {
    "name": "ipython",
    "version": 3
   },
   "file_extension": ".py",
   "mimetype": "text/x-python",
   "name": "python",
   "nbconvert_exporter": "python",
   "pygments_lexer": "ipython3",
   "version": "3.10.9"
  },
  "orig_nbformat": 4
 },
 "nbformat": 4,
 "nbformat_minor": 2
}
