{
 "cells": [
  {
   "cell_type": "code",
   "execution_count": 2,
   "metadata": {},
   "outputs": [],
   "source": [
    "import json\n",
    "import requests\n",
    "import matplotlib.pyplot as plt\n",
    "import pandas as pd\n",
    "import numpy as np\n",
    "import matplotlib.dates as mdates\n"
   ]
  },
  {
   "cell_type": "code",
   "execution_count": 13,
   "metadata": {},
   "outputs": [
    {
     "name": "stderr",
     "output_type": "stream",
     "text": [
      "C:\\Users\\Aaron\\AppData\\Local\\Temp\\ipykernel_32756\\2137799343.py:1: DtypeWarning: Columns (9,13,19) have mixed types. Specify dtype option on import or set low_memory=False.\n",
      "  mcdw = pd.read_csv('../data/mcdw.20230530.csv')\n"
     ]
    },
    {
     "name": "stdout",
     "output_type": "stream",
     "text": [
      "<class 'pandas.core.frame.DataFrame'>\n",
      "RangeIndex: 907855 entries, 0 to 907854\n",
      "Data columns (total 36 columns):\n",
      " #   Column                                             Non-Null Count   Dtype  \n",
      "---  ------                                             --------------   -----  \n",
      " 0   WMO ID                                             907855 non-null  int64  \n",
      " 1   YEAR-MONTH                                         907855 non-null  object \n",
      " 2   LONGITUDE (deg)                                    907855 non-null  float64\n",
      " 3   LATITUDE (deg)                                     907855 non-null  float64\n",
      " 4   ELEVATION (m)                                      907855 non-null  float64\n",
      " 5   STATION PRESSURE (0.1 mb)                          907855 non-null  int64  \n",
      " 6   STATION PRESSURE SOURCE FLAG                       826655 non-null  object \n",
      " 7   MEAN SEA LEVEL PRESSURE (0.1 mb)                   825674 non-null  float64\n",
      " 8   MEAN SEA LEVEL PRESSURE SOURCE FLAG                907855 non-null  object \n",
      " 9   MEAN SEA LEVEL PRESSURE HEIGHT FLAG                22617 non-null   object \n",
      " 10  VAPOR PRESSURE (0.1 mb)                            907855 non-null  int64  \n",
      " 11  VAPOR PRESSURE SOURCE FLAG                         878269 non-null  object \n",
      " 12  VAPOR PRESSURE DEPARTURE (0.1 mb)                  907855 non-null  int64  \n",
      " 13  VAPOR PRESSURE DEPARTURE SOURCE FLAG               268423 non-null  object \n",
      " 14  MINIMUM TEMPERATURE (deg C)                        907855 non-null  int64  \n",
      " 15  MINIMUM TEMPERATURE SOURCE FLAG                    605950 non-null  object \n",
      " 16  MEAN TEMPERATURE (deg C)                           907855 non-null  int64  \n",
      " 17  MEAN TEMPERATURE SOURCE FLAG                       892136 non-null  object \n",
      " 18  MEAN TEMPERATURE DEPARTURE (deg C)                 907855 non-null  int64  \n",
      " 19  MEAN TEMPERATURE DEPARTURE SOURCE FLAG             473358 non-null  object \n",
      " 20  MAXIMUM TEMPERATURE (deg C)                        907855 non-null  int64  \n",
      " 21  MAXIMUM TEMPERATURE SOURCE FLAG                    606564 non-null  object \n",
      " 22  NO. DAYS PRECIPITATION >= 1.0 mm                   907855 non-null  int64  \n",
      " 23  NO. DAYS OF PRECIPITATION >= 1.0 mm SOURCE FLAG    871199 non-null  object \n",
      " 24  TOTAL PRECIPITATION (mm)                           907855 non-null  int64  \n",
      " 25  TOTAL PRECIPITATION SOURCE FLAG                    872759 non-null  object \n",
      " 26  TOTAL PRECIPITATION DEPARTURE (mm)                 907855 non-null  int64  \n",
      " 27  TOTAL PRECIPITATION DEPARTURE SOURCE FLAG          516788 non-null  object \n",
      " 28  PRECIPITATION QUINTILE                             907855 non-null  int64  \n",
      " 29  PRECIPITATION QUINTILE SOURCE FLAG                 655155 non-null  object \n",
      " 30  SUNSHINE DURATION (hours)                          907855 non-null  int64  \n",
      " 31  SUNSHINE DURATION SOURCE FLAG                      548029 non-null  object \n",
      " 32  SUNSHINE DURATION AS LONG TERM NORMAL (%)          907855 non-null  int64  \n",
      " 33  SUNSHINE DURATION AS LONG TERM NORMAL SOURCE FLAG  445770 non-null  object \n",
      " 34  VERSION                                            907855 non-null  object \n",
      " 35  STATION NAME                                       879848 non-null  object \n",
      "dtypes: float64(4), int64(14), object(18)\n",
      "memory usage: 249.3+ MB\n"
     ]
    }
   ],
   "source": [
    "mcdw = pd.read_csv('../data/mcdw.20230530.csv')\n",
    "mcdw.info()"
   ]
  },
  {
   "cell_type": "code",
   "execution_count": 15,
   "metadata": {},
   "outputs": [],
   "source": [
    "weather = mcdw.drop(mcdw.columns[[4, 5, 6,7,8,9,10,11,12,13]], axis=1, inplace=True)"
   ]
  }
 ],
 "metadata": {
  "kernelspec": {
   "display_name": "base",
   "language": "python",
   "name": "python3"
  },
  "language_info": {
   "codemirror_mode": {
    "name": "ipython",
    "version": 3
   },
   "file_extension": ".py",
   "mimetype": "text/x-python",
   "name": "python",
   "nbconvert_exporter": "python",
   "pygments_lexer": "ipython3",
   "version": "3.10.9"
  },
  "orig_nbformat": 4
 },
 "nbformat": 4,
 "nbformat_minor": 2
}
